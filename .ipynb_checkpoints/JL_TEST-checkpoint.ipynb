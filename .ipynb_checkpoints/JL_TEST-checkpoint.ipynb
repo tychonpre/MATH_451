{
 "cells": [
  {
   "cell_type": "code",
   "execution_count": 1,
   "id": "71ce0be2-a350-4cfc-826b-4a8837ca584f",
   "metadata": {},
   "outputs": [
    {
     "name": "stdout",
     "output_type": "stream",
     "text": [
      "Tychon\n"
     ]
    }
   ],
   "source": [
    "print (\"Tychon\")"
   ]
  },
  {
   "cell_type": "code",
   "execution_count": null,
   "id": "d40a1276-62ae-4130-8ade-1c57a4cb16b4",
   "metadata": {},
   "outputs": [],
   "source": []
  }
 ],
 "metadata": {
  "kernelspec": {
   "display_name": "Python 3 (ipykernel)",
   "language": "python",
   "name": "python3"
  },
  "language_info": {
   "codemirror_mode": {
    "name": "ipython",
    "version": 3
   },
   "file_extension": ".py",
   "mimetype": "text/x-python",
   "name": "python",
   "nbconvert_exporter": "python",
   "pygments_lexer": "ipython3",
   "version": "3.12.4"
  }
 },
 "nbformat": 4,
 "nbformat_minor": 5
}
